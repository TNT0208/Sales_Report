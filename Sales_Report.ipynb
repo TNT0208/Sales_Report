{
 "cells": [
  {
   "cell_type": "code",
   "execution_count": 75,
   "id": "446e5237",
   "metadata": {},
   "outputs": [],
   "source": [
    "# Import necessary packages\n",
    "import numpy as np\n",
    "import pandas as pd\n",
    "import matplotlib.pyplot as plt\n",
    "import seaborn as sns\n",
    "from itertools import combinations\n",
    "from collections import Counter\n",
    "%matplotlib inline"
   ]
  },
  {
   "cell_type": "markdown",
   "id": "7d76ff5c",
   "metadata": {},
   "source": [
    "### Cleaning and Preprocessing Data"
   ]
  },
  {
   "cell_type": "code",
   "execution_count": 2,
   "id": "b80bc1fa",
   "metadata": {},
   "outputs": [],
   "source": [
    "sales_data = pd.read_csv('data/sales2019_1.csv')"
   ]
  },
  {
   "cell_type": "code",
   "execution_count": 3,
   "id": "df26c85d",
   "metadata": {},
   "outputs": [
    {
     "data": {
      "text/html": [
       "<div>\n",
       "<style scoped>\n",
       "    .dataframe tbody tr th:only-of-type {\n",
       "        vertical-align: middle;\n",
       "    }\n",
       "\n",
       "    .dataframe tbody tr th {\n",
       "        vertical-align: top;\n",
       "    }\n",
       "\n",
       "    .dataframe thead th {\n",
       "        text-align: right;\n",
       "    }\n",
       "</style>\n",
       "<table border=\"1\" class=\"dataframe\">\n",
       "  <thead>\n",
       "    <tr style=\"text-align: right;\">\n",
       "      <th></th>\n",
       "      <th>Order ID</th>\n",
       "      <th>Product</th>\n",
       "      <th>Quantity Ordered</th>\n",
       "      <th>Price Each</th>\n",
       "      <th>Order Date</th>\n",
       "      <th>Purchase Address</th>\n",
       "    </tr>\n",
       "  </thead>\n",
       "  <tbody>\n",
       "    <tr>\n",
       "      <th>0</th>\n",
       "      <td>141234</td>\n",
       "      <td>iPhone</td>\n",
       "      <td>1</td>\n",
       "      <td>700</td>\n",
       "      <td>01/22/19 21:25</td>\n",
       "      <td>944 Walnut St, Boston, MA 02215</td>\n",
       "    </tr>\n",
       "    <tr>\n",
       "      <th>1</th>\n",
       "      <td>141235</td>\n",
       "      <td>Lightning Charging Cable</td>\n",
       "      <td>1</td>\n",
       "      <td>14.95</td>\n",
       "      <td>01/28/19 14:15</td>\n",
       "      <td>185 Maple St, Portland, OR 97035</td>\n",
       "    </tr>\n",
       "    <tr>\n",
       "      <th>2</th>\n",
       "      <td>141236</td>\n",
       "      <td>Wired Headphones</td>\n",
       "      <td>2</td>\n",
       "      <td>11.99</td>\n",
       "      <td>01/17/19 13:33</td>\n",
       "      <td>538 Adams St, San Francisco, CA 94016</td>\n",
       "    </tr>\n",
       "    <tr>\n",
       "      <th>3</th>\n",
       "      <td>141237</td>\n",
       "      <td>27in FHD Monitor</td>\n",
       "      <td>1</td>\n",
       "      <td>149.99</td>\n",
       "      <td>01/05/19 20:33</td>\n",
       "      <td>738 10th St, Los Angeles, CA 90001</td>\n",
       "    </tr>\n",
       "    <tr>\n",
       "      <th>4</th>\n",
       "      <td>141238</td>\n",
       "      <td>Wired Headphones</td>\n",
       "      <td>1</td>\n",
       "      <td>11.99</td>\n",
       "      <td>01/25/19 11:59</td>\n",
       "      <td>387 10th St, Austin, TX 73301</td>\n",
       "    </tr>\n",
       "  </tbody>\n",
       "</table>\n",
       "</div>"
      ],
      "text/plain": [
       "  Order ID                   Product Quantity Ordered Price Each  \\\n",
       "0   141234                    iPhone                1        700   \n",
       "1   141235  Lightning Charging Cable                1      14.95   \n",
       "2   141236          Wired Headphones                2      11.99   \n",
       "3   141237          27in FHD Monitor                1     149.99   \n",
       "4   141238          Wired Headphones                1      11.99   \n",
       "\n",
       "       Order Date                       Purchase Address  \n",
       "0  01/22/19 21:25        944 Walnut St, Boston, MA 02215  \n",
       "1  01/28/19 14:15       185 Maple St, Portland, OR 97035  \n",
       "2  01/17/19 13:33  538 Adams St, San Francisco, CA 94016  \n",
       "3  01/05/19 20:33     738 10th St, Los Angeles, CA 90001  \n",
       "4  01/25/19 11:59          387 10th St, Austin, TX 73301  "
      ]
     },
     "execution_count": 3,
     "metadata": {},
     "output_type": "execute_result"
    }
   ],
   "source": [
    "sales_data.head()"
   ]
  },
  {
   "cell_type": "markdown",
   "id": "808df464",
   "metadata": {},
   "source": [
    "File names start from sales2019_1,... to sales2019_12 which are the months of 2019 relatively.\n",
    "We can create a for loop to read the other months and concatenate them together:"
   ]
  },
  {
   "cell_type": "code",
   "execution_count": 4,
   "id": "57dce9f8",
   "metadata": {},
   "outputs": [],
   "source": [
    "for month in range(2, 13):\n",
    "    sales_data = pd.concat(objs = [sales_data, pd.read_csv(f'data/sales2019_{month}.csv')])"
   ]
  },
  {
   "cell_type": "code",
   "execution_count": 5,
   "id": "960f8901",
   "metadata": {},
   "outputs": [
    {
     "name": "stdout",
     "output_type": "stream",
     "text": [
      "<class 'pandas.core.frame.DataFrame'>\n",
      "Int64Index: 186850 entries, 0 to 25116\n",
      "Data columns (total 6 columns):\n",
      " #   Column            Non-Null Count   Dtype \n",
      "---  ------            --------------   ----- \n",
      " 0   Order ID          186305 non-null  object\n",
      " 1   Product           186305 non-null  object\n",
      " 2   Quantity Ordered  186305 non-null  object\n",
      " 3   Price Each        186305 non-null  object\n",
      " 4   Order Date        186305 non-null  object\n",
      " 5   Purchase Address  186305 non-null  object\n",
      "dtypes: object(6)\n",
      "memory usage: 10.0+ MB\n"
     ]
    }
   ],
   "source": [
    "sales_data.info()    # Check the information of the dataframe"
   ]
  },
  {
   "cell_type": "code",
   "execution_count": 6,
   "id": "1bdfef55",
   "metadata": {},
   "outputs": [
    {
     "data": {
      "text/html": [
       "<div>\n",
       "<style scoped>\n",
       "    .dataframe tbody tr th:only-of-type {\n",
       "        vertical-align: middle;\n",
       "    }\n",
       "\n",
       "    .dataframe tbody tr th {\n",
       "        vertical-align: top;\n",
       "    }\n",
       "\n",
       "    .dataframe thead th {\n",
       "        text-align: right;\n",
       "    }\n",
       "</style>\n",
       "<table border=\"1\" class=\"dataframe\">\n",
       "  <thead>\n",
       "    <tr style=\"text-align: right;\">\n",
       "      <th></th>\n",
       "      <th>Order ID</th>\n",
       "      <th>Product</th>\n",
       "      <th>Quantity Ordered</th>\n",
       "      <th>Price Each</th>\n",
       "      <th>Order Date</th>\n",
       "      <th>Purchase Address</th>\n",
       "    </tr>\n",
       "  </thead>\n",
       "  <tbody>\n",
       "    <tr>\n",
       "      <th>25112</th>\n",
       "      <td>319666</td>\n",
       "      <td>Lightning Charging Cable</td>\n",
       "      <td>1</td>\n",
       "      <td>14.95</td>\n",
       "      <td>12/11/19 20:58</td>\n",
       "      <td>14 Madison St, San Francisco, CA 94016</td>\n",
       "    </tr>\n",
       "    <tr>\n",
       "      <th>25113</th>\n",
       "      <td>319667</td>\n",
       "      <td>AA Batteries (4-pack)</td>\n",
       "      <td>2</td>\n",
       "      <td>3.84</td>\n",
       "      <td>12/01/19 12:01</td>\n",
       "      <td>549 Willow St, Los Angeles, CA 90001</td>\n",
       "    </tr>\n",
       "    <tr>\n",
       "      <th>25114</th>\n",
       "      <td>319668</td>\n",
       "      <td>Vareebadd Phone</td>\n",
       "      <td>1</td>\n",
       "      <td>400</td>\n",
       "      <td>12/09/19 06:43</td>\n",
       "      <td>273 Wilson St, Seattle, WA 98101</td>\n",
       "    </tr>\n",
       "    <tr>\n",
       "      <th>25115</th>\n",
       "      <td>319669</td>\n",
       "      <td>Wired Headphones</td>\n",
       "      <td>1</td>\n",
       "      <td>11.99</td>\n",
       "      <td>12/03/19 10:39</td>\n",
       "      <td>778 River St, Dallas, TX 75001</td>\n",
       "    </tr>\n",
       "    <tr>\n",
       "      <th>25116</th>\n",
       "      <td>319670</td>\n",
       "      <td>Bose SoundSport Headphones</td>\n",
       "      <td>1</td>\n",
       "      <td>99.99</td>\n",
       "      <td>12/21/19 21:45</td>\n",
       "      <td>747 Chestnut St, Los Angeles, CA 90001</td>\n",
       "    </tr>\n",
       "  </tbody>\n",
       "</table>\n",
       "</div>"
      ],
      "text/plain": [
       "      Order ID                     Product Quantity Ordered Price Each  \\\n",
       "25112   319666    Lightning Charging Cable                1      14.95   \n",
       "25113   319667       AA Batteries (4-pack)                2       3.84   \n",
       "25114   319668             Vareebadd Phone                1        400   \n",
       "25115   319669            Wired Headphones                1      11.99   \n",
       "25116   319670  Bose SoundSport Headphones                1      99.99   \n",
       "\n",
       "           Order Date                        Purchase Address  \n",
       "25112  12/11/19 20:58  14 Madison St, San Francisco, CA 94016  \n",
       "25113  12/01/19 12:01    549 Willow St, Los Angeles, CA 90001  \n",
       "25114  12/09/19 06:43        273 Wilson St, Seattle, WA 98101  \n",
       "25115  12/03/19 10:39          778 River St, Dallas, TX 75001  \n",
       "25116  12/21/19 21:45  747 Chestnut St, Los Angeles, CA 90001  "
      ]
     },
     "execution_count": 6,
     "metadata": {},
     "output_type": "execute_result"
    }
   ],
   "source": [
    "sales_data.tail()    # Check the last 5 rows of the dataframe"
   ]
  },
  {
   "cell_type": "markdown",
   "id": "a888ffcf",
   "metadata": {},
   "source": [
    "We can see that the last index (25116) does not match the number of entries (186850).\n",
    "It means the indexes must be duplicated. Therefore, we have to reset the indexes:"
   ]
  },
  {
   "cell_type": "code",
   "execution_count": 7,
   "id": "491630b6",
   "metadata": {},
   "outputs": [],
   "source": [
    "sales_data.reset_index(drop = True, inplace=True)"
   ]
  },
  {
   "cell_type": "markdown",
   "id": "267d5475",
   "metadata": {},
   "source": [
    "Order Date column has 'Order Date' values so that we cannot convert the column to datetime format.\n",
    "The rows contain 'Order Date' values are also duplicates of the heading.\n",
    "Thus, we must remove them from the dataframe:"
   ]
  },
  {
   "cell_type": "code",
   "execution_count": 8,
   "id": "d5d61f44",
   "metadata": {},
   "outputs": [],
   "source": [
    "drop_indexes = sales_data[sales_data['Order Date'] == 'Order Date'].index\n",
    "\n",
    "sales_data.drop(index = drop_indexes, inplace=True)"
   ]
  },
  {
   "cell_type": "markdown",
   "id": "0f2964a2",
   "metadata": {},
   "source": [
    "Remove empty rows:"
   ]
  },
  {
   "cell_type": "code",
   "execution_count": 9,
   "id": "a22572f9",
   "metadata": {},
   "outputs": [],
   "source": [
    "sales_data.dropna(inplace=True)"
   ]
  },
  {
   "cell_type": "markdown",
   "id": "bba11ad1",
   "metadata": {},
   "source": [
    "Now we can convert the Order Date column from string format to datetime format:"
   ]
  },
  {
   "cell_type": "code",
   "execution_count": 10,
   "id": "8f832133",
   "metadata": {},
   "outputs": [],
   "source": [
    "sales_data['Order Date'] = pd.to_datetime(sales_data['Order Date'])"
   ]
  },
  {
   "cell_type": "code",
   "execution_count": 11,
   "id": "c1feaa51",
   "metadata": {},
   "outputs": [
    {
     "data": {
      "text/html": [
       "<div>\n",
       "<style scoped>\n",
       "    .dataframe tbody tr th:only-of-type {\n",
       "        vertical-align: middle;\n",
       "    }\n",
       "\n",
       "    .dataframe tbody tr th {\n",
       "        vertical-align: top;\n",
       "    }\n",
       "\n",
       "    .dataframe thead th {\n",
       "        text-align: right;\n",
       "    }\n",
       "</style>\n",
       "<table border=\"1\" class=\"dataframe\">\n",
       "  <thead>\n",
       "    <tr style=\"text-align: right;\">\n",
       "      <th></th>\n",
       "      <th>Order ID</th>\n",
       "      <th>Product</th>\n",
       "      <th>Quantity Ordered</th>\n",
       "      <th>Price Each</th>\n",
       "      <th>Order Date</th>\n",
       "      <th>Purchase Address</th>\n",
       "    </tr>\n",
       "  </thead>\n",
       "  <tbody>\n",
       "    <tr>\n",
       "      <th>0</th>\n",
       "      <td>141234</td>\n",
       "      <td>iPhone</td>\n",
       "      <td>1</td>\n",
       "      <td>700</td>\n",
       "      <td>2019-01-22 21:25:00</td>\n",
       "      <td>944 Walnut St, Boston, MA 02215</td>\n",
       "    </tr>\n",
       "    <tr>\n",
       "      <th>1</th>\n",
       "      <td>141235</td>\n",
       "      <td>Lightning Charging Cable</td>\n",
       "      <td>1</td>\n",
       "      <td>14.95</td>\n",
       "      <td>2019-01-28 14:15:00</td>\n",
       "      <td>185 Maple St, Portland, OR 97035</td>\n",
       "    </tr>\n",
       "    <tr>\n",
       "      <th>2</th>\n",
       "      <td>141236</td>\n",
       "      <td>Wired Headphones</td>\n",
       "      <td>2</td>\n",
       "      <td>11.99</td>\n",
       "      <td>2019-01-17 13:33:00</td>\n",
       "      <td>538 Adams St, San Francisco, CA 94016</td>\n",
       "    </tr>\n",
       "    <tr>\n",
       "      <th>3</th>\n",
       "      <td>141237</td>\n",
       "      <td>27in FHD Monitor</td>\n",
       "      <td>1</td>\n",
       "      <td>149.99</td>\n",
       "      <td>2019-01-05 20:33:00</td>\n",
       "      <td>738 10th St, Los Angeles, CA 90001</td>\n",
       "    </tr>\n",
       "    <tr>\n",
       "      <th>4</th>\n",
       "      <td>141238</td>\n",
       "      <td>Wired Headphones</td>\n",
       "      <td>1</td>\n",
       "      <td>11.99</td>\n",
       "      <td>2019-01-25 11:59:00</td>\n",
       "      <td>387 10th St, Austin, TX 73301</td>\n",
       "    </tr>\n",
       "  </tbody>\n",
       "</table>\n",
       "</div>"
      ],
      "text/plain": [
       "  Order ID                   Product Quantity Ordered Price Each  \\\n",
       "0   141234                    iPhone                1        700   \n",
       "1   141235  Lightning Charging Cable                1      14.95   \n",
       "2   141236          Wired Headphones                2      11.99   \n",
       "3   141237          27in FHD Monitor                1     149.99   \n",
       "4   141238          Wired Headphones                1      11.99   \n",
       "\n",
       "           Order Date                       Purchase Address  \n",
       "0 2019-01-22 21:25:00        944 Walnut St, Boston, MA 02215  \n",
       "1 2019-01-28 14:15:00       185 Maple St, Portland, OR 97035  \n",
       "2 2019-01-17 13:33:00  538 Adams St, San Francisco, CA 94016  \n",
       "3 2019-01-05 20:33:00     738 10th St, Los Angeles, CA 90001  \n",
       "4 2019-01-25 11:59:00          387 10th St, Austin, TX 73301  "
      ]
     },
     "execution_count": 11,
     "metadata": {},
     "output_type": "execute_result"
    }
   ],
   "source": [
    "sales_data.head()    # Check the head of the dataframe again"
   ]
  },
  {
   "cell_type": "markdown",
   "id": "3b61f03b",
   "metadata": {},
   "source": [
    "Create Month column with values extracted from Order Date column:"
   ]
  },
  {
   "cell_type": "code",
   "execution_count": 12,
   "id": "fa2e5a80",
   "metadata": {},
   "outputs": [],
   "source": [
    "sales_data['Month'] = sales_data['Order Date'].apply(lambda x: x.month)"
   ]
  },
  {
   "cell_type": "markdown",
   "id": "890ee5e7",
   "metadata": {},
   "source": [
    "Do the same thing with new column named Hour:"
   ]
  },
  {
   "cell_type": "code",
   "execution_count": 13,
   "id": "fb4b7f1b",
   "metadata": {},
   "outputs": [],
   "source": [
    "sales_data['Hour'] = sales_data['Order Date'].apply(lambda x: x.hour)"
   ]
  },
  {
   "cell_type": "markdown",
   "id": "e1eced5d",
   "metadata": {},
   "source": [
    "Now we need to create a new column called Revenue. As we know, Revenue = Quantity Ordered * Price Each. However, the Quantity Ordered and Price Each columns are in string format. So, we need to convert them to numbers:"
   ]
  },
  {
   "cell_type": "code",
   "execution_count": 14,
   "id": "7db05389",
   "metadata": {},
   "outputs": [],
   "source": [
    "sales_data['Quantity Ordered'] = pd.to_numeric(sales_data['Quantity Ordered'])    # Convert Quantity Ordered column to numbers"
   ]
  },
  {
   "cell_type": "code",
   "execution_count": 15,
   "id": "c974fcd0",
   "metadata": {},
   "outputs": [],
   "source": [
    "sales_data['Price Each'] = pd.to_numeric(sales_data['Price Each'])    # Convert Price Each column to numbers"
   ]
  },
  {
   "cell_type": "code",
   "execution_count": 16,
   "id": "dac62e6d",
   "metadata": {},
   "outputs": [],
   "source": [
    "sales_data['Revenue'] = sales_data['Quantity Ordered'] * sales_data['Price Each']    # Create Revenue column"
   ]
  },
  {
   "cell_type": "markdown",
   "id": "3a47464c",
   "metadata": {},
   "source": [
    "As we can see in the dataframe, each Purchase Address has a city name in the middle. In order to extract the city name and put into the new City column, we need to split each Purchase Address by comma (,) and then take the city name:"
   ]
  },
  {
   "cell_type": "code",
   "execution_count": 17,
   "id": "3ecec3b3",
   "metadata": {},
   "outputs": [],
   "source": [
    "sales_data['City'] = sales_data['Purchase Address'].apply(lambda x: x.split(',')[1][1:])"
   ]
  },
  {
   "cell_type": "markdown",
   "id": "434899a0",
   "metadata": {},
   "source": [
    "Let's also add Day of Week column to the dataframe:"
   ]
  },
  {
   "cell_type": "code",
   "execution_count": 18,
   "id": "4fb9fe3c",
   "metadata": {},
   "outputs": [],
   "source": [
    "sales_data['Day of Week'] = sales_data['Order Date'].apply(lambda x: x.day_of_week)"
   ]
  },
  {
   "cell_type": "code",
   "execution_count": 19,
   "id": "94be88bb",
   "metadata": {},
   "outputs": [
    {
     "data": {
      "text/html": [
       "<div>\n",
       "<style scoped>\n",
       "    .dataframe tbody tr th:only-of-type {\n",
       "        vertical-align: middle;\n",
       "    }\n",
       "\n",
       "    .dataframe tbody tr th {\n",
       "        vertical-align: top;\n",
       "    }\n",
       "\n",
       "    .dataframe thead th {\n",
       "        text-align: right;\n",
       "    }\n",
       "</style>\n",
       "<table border=\"1\" class=\"dataframe\">\n",
       "  <thead>\n",
       "    <tr style=\"text-align: right;\">\n",
       "      <th></th>\n",
       "      <th>Order ID</th>\n",
       "      <th>Product</th>\n",
       "      <th>Quantity Ordered</th>\n",
       "      <th>Price Each</th>\n",
       "      <th>Order Date</th>\n",
       "      <th>Purchase Address</th>\n",
       "      <th>Month</th>\n",
       "      <th>Hour</th>\n",
       "      <th>Revenue</th>\n",
       "      <th>City</th>\n",
       "      <th>Day of Week</th>\n",
       "    </tr>\n",
       "  </thead>\n",
       "  <tbody>\n",
       "    <tr>\n",
       "      <th>0</th>\n",
       "      <td>141234</td>\n",
       "      <td>iPhone</td>\n",
       "      <td>1</td>\n",
       "      <td>700.00</td>\n",
       "      <td>2019-01-22 21:25:00</td>\n",
       "      <td>944 Walnut St, Boston, MA 02215</td>\n",
       "      <td>1</td>\n",
       "      <td>21</td>\n",
       "      <td>700.00</td>\n",
       "      <td>Boston</td>\n",
       "      <td>1</td>\n",
       "    </tr>\n",
       "    <tr>\n",
       "      <th>1</th>\n",
       "      <td>141235</td>\n",
       "      <td>Lightning Charging Cable</td>\n",
       "      <td>1</td>\n",
       "      <td>14.95</td>\n",
       "      <td>2019-01-28 14:15:00</td>\n",
       "      <td>185 Maple St, Portland, OR 97035</td>\n",
       "      <td>1</td>\n",
       "      <td>14</td>\n",
       "      <td>14.95</td>\n",
       "      <td>Portland</td>\n",
       "      <td>0</td>\n",
       "    </tr>\n",
       "    <tr>\n",
       "      <th>2</th>\n",
       "      <td>141236</td>\n",
       "      <td>Wired Headphones</td>\n",
       "      <td>2</td>\n",
       "      <td>11.99</td>\n",
       "      <td>2019-01-17 13:33:00</td>\n",
       "      <td>538 Adams St, San Francisco, CA 94016</td>\n",
       "      <td>1</td>\n",
       "      <td>13</td>\n",
       "      <td>23.98</td>\n",
       "      <td>San Francisco</td>\n",
       "      <td>3</td>\n",
       "    </tr>\n",
       "    <tr>\n",
       "      <th>3</th>\n",
       "      <td>141237</td>\n",
       "      <td>27in FHD Monitor</td>\n",
       "      <td>1</td>\n",
       "      <td>149.99</td>\n",
       "      <td>2019-01-05 20:33:00</td>\n",
       "      <td>738 10th St, Los Angeles, CA 90001</td>\n",
       "      <td>1</td>\n",
       "      <td>20</td>\n",
       "      <td>149.99</td>\n",
       "      <td>Los Angeles</td>\n",
       "      <td>5</td>\n",
       "    </tr>\n",
       "    <tr>\n",
       "      <th>4</th>\n",
       "      <td>141238</td>\n",
       "      <td>Wired Headphones</td>\n",
       "      <td>1</td>\n",
       "      <td>11.99</td>\n",
       "      <td>2019-01-25 11:59:00</td>\n",
       "      <td>387 10th St, Austin, TX 73301</td>\n",
       "      <td>1</td>\n",
       "      <td>11</td>\n",
       "      <td>11.99</td>\n",
       "      <td>Austin</td>\n",
       "      <td>4</td>\n",
       "    </tr>\n",
       "  </tbody>\n",
       "</table>\n",
       "</div>"
      ],
      "text/plain": [
       "  Order ID                   Product  Quantity Ordered  Price Each  \\\n",
       "0   141234                    iPhone                 1      700.00   \n",
       "1   141235  Lightning Charging Cable                 1       14.95   \n",
       "2   141236          Wired Headphones                 2       11.99   \n",
       "3   141237          27in FHD Monitor                 1      149.99   \n",
       "4   141238          Wired Headphones                 1       11.99   \n",
       "\n",
       "           Order Date                       Purchase Address  Month  Hour  \\\n",
       "0 2019-01-22 21:25:00        944 Walnut St, Boston, MA 02215      1    21   \n",
       "1 2019-01-28 14:15:00       185 Maple St, Portland, OR 97035      1    14   \n",
       "2 2019-01-17 13:33:00  538 Adams St, San Francisco, CA 94016      1    13   \n",
       "3 2019-01-05 20:33:00     738 10th St, Los Angeles, CA 90001      1    20   \n",
       "4 2019-01-25 11:59:00          387 10th St, Austin, TX 73301      1    11   \n",
       "\n",
       "   Revenue           City  Day of Week  \n",
       "0   700.00         Boston            1  \n",
       "1    14.95       Portland            0  \n",
       "2    23.98  San Francisco            3  \n",
       "3   149.99    Los Angeles            5  \n",
       "4    11.99         Austin            4  "
      ]
     },
     "execution_count": 19,
     "metadata": {},
     "output_type": "execute_result"
    }
   ],
   "source": [
    "sales_data.head()    # Check the dataframe to see if we've done correctly so far"
   ]
  },
  {
   "cell_type": "markdown",
   "id": "f46e2977",
   "metadata": {},
   "source": [
    "As the attribute .day_of_week returns numbers from 0 - 6, which actually are Monday - Sunday relatively, we need to change the numbers into days of week:"
   ]
  },
  {
   "cell_type": "code",
   "execution_count": 20,
   "id": "b0005c50",
   "metadata": {},
   "outputs": [],
   "source": [
    "dow_dict = {0:'Mon', 1:'Tue', 2:'Wed', 3:'Thu', 4:'Fri', 5:'Sat', 6:'Sun'}    # Create a day-of-week dictionary"
   ]
  },
  {
   "cell_type": "code",
   "execution_count": 21,
   "id": "6a40f99b",
   "metadata": {},
   "outputs": [],
   "source": [
    "# Mapping values in Day of Week column with values in the dictionary and reassign the column\n",
    "sales_data['Day of Week'] = sales_data['Day of Week'].map(dow_dict)"
   ]
  },
  {
   "cell_type": "code",
   "execution_count": 22,
   "id": "f935da88",
   "metadata": {},
   "outputs": [
    {
     "data": {
      "text/html": [
       "<div>\n",
       "<style scoped>\n",
       "    .dataframe tbody tr th:only-of-type {\n",
       "        vertical-align: middle;\n",
       "    }\n",
       "\n",
       "    .dataframe tbody tr th {\n",
       "        vertical-align: top;\n",
       "    }\n",
       "\n",
       "    .dataframe thead th {\n",
       "        text-align: right;\n",
       "    }\n",
       "</style>\n",
       "<table border=\"1\" class=\"dataframe\">\n",
       "  <thead>\n",
       "    <tr style=\"text-align: right;\">\n",
       "      <th></th>\n",
       "      <th>Order ID</th>\n",
       "      <th>Product</th>\n",
       "      <th>Quantity Ordered</th>\n",
       "      <th>Price Each</th>\n",
       "      <th>Order Date</th>\n",
       "      <th>Purchase Address</th>\n",
       "      <th>Month</th>\n",
       "      <th>Hour</th>\n",
       "      <th>Revenue</th>\n",
       "      <th>City</th>\n",
       "      <th>Day of Week</th>\n",
       "    </tr>\n",
       "  </thead>\n",
       "  <tbody>\n",
       "    <tr>\n",
       "      <th>0</th>\n",
       "      <td>141234</td>\n",
       "      <td>iPhone</td>\n",
       "      <td>1</td>\n",
       "      <td>700.00</td>\n",
       "      <td>2019-01-22 21:25:00</td>\n",
       "      <td>944 Walnut St, Boston, MA 02215</td>\n",
       "      <td>1</td>\n",
       "      <td>21</td>\n",
       "      <td>700.00</td>\n",
       "      <td>Boston</td>\n",
       "      <td>Tue</td>\n",
       "    </tr>\n",
       "    <tr>\n",
       "      <th>1</th>\n",
       "      <td>141235</td>\n",
       "      <td>Lightning Charging Cable</td>\n",
       "      <td>1</td>\n",
       "      <td>14.95</td>\n",
       "      <td>2019-01-28 14:15:00</td>\n",
       "      <td>185 Maple St, Portland, OR 97035</td>\n",
       "      <td>1</td>\n",
       "      <td>14</td>\n",
       "      <td>14.95</td>\n",
       "      <td>Portland</td>\n",
       "      <td>Mon</td>\n",
       "    </tr>\n",
       "    <tr>\n",
       "      <th>2</th>\n",
       "      <td>141236</td>\n",
       "      <td>Wired Headphones</td>\n",
       "      <td>2</td>\n",
       "      <td>11.99</td>\n",
       "      <td>2019-01-17 13:33:00</td>\n",
       "      <td>538 Adams St, San Francisco, CA 94016</td>\n",
       "      <td>1</td>\n",
       "      <td>13</td>\n",
       "      <td>23.98</td>\n",
       "      <td>San Francisco</td>\n",
       "      <td>Thu</td>\n",
       "    </tr>\n",
       "    <tr>\n",
       "      <th>3</th>\n",
       "      <td>141237</td>\n",
       "      <td>27in FHD Monitor</td>\n",
       "      <td>1</td>\n",
       "      <td>149.99</td>\n",
       "      <td>2019-01-05 20:33:00</td>\n",
       "      <td>738 10th St, Los Angeles, CA 90001</td>\n",
       "      <td>1</td>\n",
       "      <td>20</td>\n",
       "      <td>149.99</td>\n",
       "      <td>Los Angeles</td>\n",
       "      <td>Sat</td>\n",
       "    </tr>\n",
       "    <tr>\n",
       "      <th>4</th>\n",
       "      <td>141238</td>\n",
       "      <td>Wired Headphones</td>\n",
       "      <td>1</td>\n",
       "      <td>11.99</td>\n",
       "      <td>2019-01-25 11:59:00</td>\n",
       "      <td>387 10th St, Austin, TX 73301</td>\n",
       "      <td>1</td>\n",
       "      <td>11</td>\n",
       "      <td>11.99</td>\n",
       "      <td>Austin</td>\n",
       "      <td>Fri</td>\n",
       "    </tr>\n",
       "  </tbody>\n",
       "</table>\n",
       "</div>"
      ],
      "text/plain": [
       "  Order ID                   Product  Quantity Ordered  Price Each  \\\n",
       "0   141234                    iPhone                 1      700.00   \n",
       "1   141235  Lightning Charging Cable                 1       14.95   \n",
       "2   141236          Wired Headphones                 2       11.99   \n",
       "3   141237          27in FHD Monitor                 1      149.99   \n",
       "4   141238          Wired Headphones                 1       11.99   \n",
       "\n",
       "           Order Date                       Purchase Address  Month  Hour  \\\n",
       "0 2019-01-22 21:25:00        944 Walnut St, Boston, MA 02215      1    21   \n",
       "1 2019-01-28 14:15:00       185 Maple St, Portland, OR 97035      1    14   \n",
       "2 2019-01-17 13:33:00  538 Adams St, San Francisco, CA 94016      1    13   \n",
       "3 2019-01-05 20:33:00     738 10th St, Los Angeles, CA 90001      1    20   \n",
       "4 2019-01-25 11:59:00          387 10th St, Austin, TX 73301      1    11   \n",
       "\n",
       "   Revenue           City Day of Week  \n",
       "0   700.00         Boston         Tue  \n",
       "1    14.95       Portland         Mon  \n",
       "2    23.98  San Francisco         Thu  \n",
       "3   149.99    Los Angeles         Sat  \n",
       "4    11.99         Austin         Fri  "
      ]
     },
     "execution_count": 22,
     "metadata": {},
     "output_type": "execute_result"
    }
   ],
   "source": [
    "sales_data.head()    # Check the dataframe again"
   ]
  },
  {
   "cell_type": "markdown",
   "id": "6c44dbaa",
   "metadata": {},
   "source": [
    "### Analyzing Data & Reporting"
   ]
  },
  {
   "cell_type": "markdown",
   "id": "81bd0c6c",
   "metadata": {},
   "source": [
    "#### Question 1: Which month has the highest revenue? How much is it?"
   ]
  },
  {
   "cell_type": "markdown",
   "id": "f684db99",
   "metadata": {},
   "source": [
    "To answer the question, we need to get the sum of the Revenue column by each month:"
   ]
  },
  {
   "cell_type": "code",
   "execution_count": 23,
   "id": "d4c95f38",
   "metadata": {},
   "outputs": [],
   "source": [
    "revenue_by_month = sales_data.groupby(by = 'Month').sum()['Revenue']"
   ]
  },
  {
   "cell_type": "code",
   "execution_count": 24,
   "id": "0499e771",
   "metadata": {},
   "outputs": [
    {
     "data": {
      "text/plain": [
       "Month\n",
       "1    1.822257e+06\n",
       "2    2.202022e+06\n",
       "3    2.807100e+06\n",
       "4    3.390670e+06\n",
       "5    3.152607e+06\n",
       "Name: Revenue, dtype: float64"
      ]
     },
     "execution_count": 24,
     "metadata": {},
     "output_type": "execute_result"
    }
   ],
   "source": [
    "revenue_by_month.head()    # Check the new dataframe"
   ]
  },
  {
   "cell_type": "code",
   "execution_count": 25,
   "id": "0c5daa81",
   "metadata": {},
   "outputs": [
    {
     "data": {
      "text/plain": [
       "12"
      ]
     },
     "execution_count": 25,
     "metadata": {},
     "output_type": "execute_result"
    }
   ],
   "source": [
    "revenue_by_month.idxmax()    # The month which has the highest Revenue"
   ]
  },
  {
   "cell_type": "code",
   "execution_count": 26,
   "id": "82abc986",
   "metadata": {},
   "outputs": [
    {
     "data": {
      "text/plain": [
       "4613443.34000153"
      ]
     },
     "execution_count": 26,
     "metadata": {},
     "output_type": "execute_result"
    }
   ],
   "source": [
    "revenue_by_month.max()    #The highest Revenue by month"
   ]
  },
  {
   "cell_type": "markdown",
   "id": "94727a9e",
   "metadata": {},
   "source": [
    "Let's create a barplot:"
   ]
  },
  {
   "cell_type": "code",
   "execution_count": 27,
   "id": "43c8fa98",
   "metadata": {},
   "outputs": [],
   "source": [
    "# Create fontdict for plot titles\n",
    "\n",
    "font = {'family': 'serif',\n",
    "        'color':  'darkred',\n",
    "        'weight': 'normal',\n",
    "        'size': 20}"
   ]
  },
  {
   "cell_type": "code",
   "execution_count": 28,
   "id": "43888741",
   "metadata": {
    "scrolled": false
   },
   "outputs": [
    {
     "data": {
      "text/plain": [
       "Text(0.5, 1.0, 'Revenue by Month')"
      ]
     },
     "execution_count": 28,
     "metadata": {},
     "output_type": "execute_result"
    },
    {
     "data": {
      "image/png": "[encoded data removed]",
      "text/plain": [
       "<Figure size 1008x432 with 1 Axes>"
      ]
     },
     "metadata": {},
     "output_type": "display_data"
    }
   ],
   "source": [
    "plt.style.use('seaborn')\n",
    "plt.figure(figsize=(14,6))\n",
    "revenue_by_month.plot.bar()\n",
    "plt.xlabel('Month', fontsize = 16)\n",
    "plt.xticks(rotation = 0, fontsize = 13)\n",
    "plt.ylabel('Revenue in USD', fontsize = 16)\n",
    "plt.yticks(fontsize = 13)\n",
    "plt.title('Revenue by Month', fontdict = font)"
   ]
  },
  {
   "cell_type": "markdown",
   "id": "63228739",
   "metadata": {},
   "source": [
    "#### Question 2: Which city has the highest revenue?"
   ]
  },
  {
   "cell_type": "markdown",
   "id": "3711b88c",
   "metadata": {},
   "source": [
    "To answer the question, we need to get the sum of the Revenue by each city:"
   ]
  },
  {
   "cell_type": "code",
   "execution_count": 29,
   "id": "ac4332a9",
   "metadata": {},
   "outputs": [],
   "source": [
    "revenue_by_city = sales_data.groupby(by = 'City').sum()['Revenue']"
   ]
  },
  {
   "cell_type": "code",
   "execution_count": 30,
   "id": "aae50d44",
   "metadata": {},
   "outputs": [
    {
     "data": {
      "text/plain": [
       "City\n",
       "Atlanta        2.795499e+06\n",
       "Austin         1.819582e+06\n",
       "Boston         3.661642e+06\n",
       "Dallas         2.767975e+06\n",
       "Los Angeles    5.452571e+06\n",
       "Name: Revenue, dtype: float64"
      ]
     },
     "execution_count": 30,
     "metadata": {},
     "output_type": "execute_result"
    }
   ],
   "source": [
    "revenue_by_city.head()    # Check the new dataframe"
   ]
  },
  {
   "cell_type": "code",
   "execution_count": 31,
   "id": "6dfe28df",
   "metadata": {},
   "outputs": [
    {
     "data": {
      "text/plain": [
       "'San Francisco'"
      ]
     },
     "execution_count": 31,
     "metadata": {},
     "output_type": "execute_result"
    }
   ],
   "source": [
    "revenue_by_city.idxmax()    # The city which has the highest revenue"
   ]
  },
  {
   "cell_type": "markdown",
   "id": "0a59e91a",
   "metadata": {},
   "source": [
    "Let's create a barplot:"
   ]
  },
  {
   "cell_type": "code",
   "execution_count": 32,
   "id": "8b51cd51",
   "metadata": {},
   "outputs": [
    {
     "data": {
      "text/plain": [
       "Text(0.5, 1.0, 'Revenue by City')"
      ]
     },
     "execution_count": 32,
     "metadata": {},
     "output_type": "execute_result"
    },
    {
     "data": {
      "image/png": "[encoded data removed]",
      "text/plain": [
       "<Figure size 1008x432 with 1 Axes>"
      ]
     },
     "metadata": {},
     "output_type": "display_data"
    }
   ],
   "source": [
    "plt.figure(figsize=(14,6))\n",
    "revenue_by_city.plot.bar()\n",
    "plt.xlabel('City', fontsize = 16)\n",
    "plt.xticks(fontsize = 13, rotation = 45)\n",
    "plt.ylabel('Revenue in USD', fontsize = 16)\n",
    "plt.yticks(fontsize = 13)\n",
    "plt.title('Revenue by City', fontdict = font)"
   ]
  },
  {
   "cell_type": "markdown",
   "id": "e71a860c",
   "metadata": {},
   "source": [
    "#### Question 3: In which period of time does the company need to run commercial ads in order to attract customers?"
   ]
  },
  {
   "cell_type": "markdown",
   "id": "f6095b90",
   "metadata": {},
   "source": [
    "To answer this question, we need to get the number of orders in each hour of the day:"
   ]
  },
  {
   "cell_type": "code",
   "execution_count": 33,
   "id": "b6e72107",
   "metadata": {},
   "outputs": [],
   "source": [
    "orders_by_hour = sales_data.groupby(by = 'Hour').count()['Quantity Ordered']"
   ]
  },
  {
   "cell_type": "code",
   "execution_count": 34,
   "id": "714d9cc1",
   "metadata": {},
   "outputs": [
    {
     "data": {
      "text/plain": [
       "Hour\n",
       "0    3910\n",
       "1    2350\n",
       "2    1243\n",
       "3     831\n",
       "4     854\n",
       "Name: Quantity Ordered, dtype: int64"
      ]
     },
     "execution_count": 34,
     "metadata": {},
     "output_type": "execute_result"
    }
   ],
   "source": [
    "orders_by_hour.head()    # Check the new dataframe"
   ]
  },
  {
   "cell_type": "code",
   "execution_count": 35,
   "id": "7acba8a4",
   "metadata": {},
   "outputs": [
    {
     "data": {
      "text/plain": [
       "Hour\n",
       "19    12905\n",
       "12    12587\n",
       "11    12411\n",
       "18    12280\n",
       "20    12228\n",
       "13    12129\n",
       "14    10984\n",
       "10    10944\n",
       "Name: Quantity Ordered, dtype: int64"
      ]
     },
     "execution_count": 35,
     "metadata": {},
     "output_type": "execute_result"
    }
   ],
   "source": [
    "orders_by_hour.sort_values(ascending = False).head(8)  # Check the top 8 periods of time which have the highest number of orders"
   ]
  },
  {
   "cell_type": "markdown",
   "id": "489661d1",
   "metadata": {},
   "source": [
    "We can create a lineplot for a closer look:"
   ]
  },
  {
   "cell_type": "code",
   "execution_count": 36,
   "id": "cc1448d0",
   "metadata": {},
   "outputs": [
    {
     "data": {
      "text/plain": [
       "Text(0.5, 1.0, 'Number of Orders by Hour')"
      ]
     },
     "execution_count": 36,
     "metadata": {},
     "output_type": "execute_result"
    },
    {
     "data": {
      "image/png": "[encoded data removed]",
      "text/plain": [
       "<Figure size 1008x432 with 1 Axes>"
      ]
     },
     "metadata": {},
     "output_type": "display_data"
    }
   ],
   "source": [
    "plt.figure(figsize=(14,6))\n",
    "orders_by_hour.plot.line()\n",
    "plt.xlabel('Hour', fontsize = 16)\n",
    "plt.xticks(range(0,24),fontsize = 13)\n",
    "plt.ylabel('Number of Orders', fontsize = 16)\n",
    "plt.yticks(fontsize = 13)\n",
    "plt.title('Number of Orders by Hour', fontdict = font)"
   ]
  },
  {
   "cell_type": "markdown",
   "id": "e25cba01",
   "metadata": {},
   "source": [
    "As we can see in the plot, the number of orders reaches its peaks in the periods of time between 11:00 and 13:00 as well as between 18:00 and 20:00. Therefore, in order to attract as many customers as possible, the company may want to run their commercial ads in these periods of time."
   ]
  },
  {
   "cell_type": "markdown",
   "id": "da8bd3e3",
   "metadata": {},
   "source": [
    "We can also dive deeper into the data for every hour of each day of week:"
   ]
  },
  {
   "cell_type": "code",
   "execution_count": 37,
   "id": "16ef17d5",
   "metadata": {},
   "outputs": [],
   "source": [
    "orders_by_hndow = sales_data.groupby(by = ['Day of Week','Hour']).count()['Quantity Ordered'].unstack(level = -1)"
   ]
  },
  {
   "cell_type": "code",
   "execution_count": 38,
   "id": "d4f22901",
   "metadata": {},
   "outputs": [
    {
     "data": {
      "text/html": [
       "<div>\n",
       "<style scoped>\n",
       "    .dataframe tbody tr th:only-of-type {\n",
       "        vertical-align: middle;\n",
       "    }\n",
       "\n",
       "    .dataframe tbody tr th {\n",
       "        vertical-align: top;\n",
       "    }\n",
       "\n",
       "    .dataframe thead th {\n",
       "        text-align: right;\n",
       "    }\n",
       "</style>\n",
       "<table border=\"1\" class=\"dataframe\">\n",
       "  <thead>\n",
       "    <tr style=\"text-align: right;\">\n",
       "      <th>Hour</th>\n",
       "      <th>0</th>\n",
       "      <th>1</th>\n",
       "      <th>2</th>\n",
       "      <th>3</th>\n",
       "      <th>4</th>\n",
       "      <th>5</th>\n",
       "      <th>6</th>\n",
       "      <th>7</th>\n",
       "      <th>8</th>\n",
       "      <th>9</th>\n",
       "      <th>...</th>\n",
       "      <th>14</th>\n",
       "      <th>15</th>\n",
       "      <th>16</th>\n",
       "      <th>17</th>\n",
       "      <th>18</th>\n",
       "      <th>19</th>\n",
       "      <th>20</th>\n",
       "      <th>21</th>\n",
       "      <th>22</th>\n",
       "      <th>23</th>\n",
       "    </tr>\n",
       "    <tr>\n",
       "      <th>Day of Week</th>\n",
       "      <th></th>\n",
       "      <th></th>\n",
       "      <th></th>\n",
       "      <th></th>\n",
       "      <th></th>\n",
       "      <th></th>\n",
       "      <th></th>\n",
       "      <th></th>\n",
       "      <th></th>\n",
       "      <th></th>\n",
       "      <th></th>\n",
       "      <th></th>\n",
       "      <th></th>\n",
       "      <th></th>\n",
       "      <th></th>\n",
       "      <th></th>\n",
       "      <th></th>\n",
       "      <th></th>\n",
       "      <th></th>\n",
       "      <th></th>\n",
       "      <th></th>\n",
       "    </tr>\n",
       "  </thead>\n",
       "  <tbody>\n",
       "    <tr>\n",
       "      <th>Fri</th>\n",
       "      <td>593</td>\n",
       "      <td>335</td>\n",
       "      <td>175</td>\n",
       "      <td>98</td>\n",
       "      <td>108</td>\n",
       "      <td>183</td>\n",
       "      <td>349</td>\n",
       "      <td>533</td>\n",
       "      <td>899</td>\n",
       "      <td>1195</td>\n",
       "      <td>...</td>\n",
       "      <td>1546</td>\n",
       "      <td>1380</td>\n",
       "      <td>1457</td>\n",
       "      <td>1522</td>\n",
       "      <td>1710</td>\n",
       "      <td>1888</td>\n",
       "      <td>1791</td>\n",
       "      <td>1530</td>\n",
       "      <td>1256</td>\n",
       "      <td>920</td>\n",
       "    </tr>\n",
       "    <tr>\n",
       "      <th>Mon</th>\n",
       "      <td>563</td>\n",
       "      <td>311</td>\n",
       "      <td>172</td>\n",
       "      <td>125</td>\n",
       "      <td>125</td>\n",
       "      <td>190</td>\n",
       "      <td>354</td>\n",
       "      <td>582</td>\n",
       "      <td>897</td>\n",
       "      <td>1238</td>\n",
       "      <td>...</td>\n",
       "      <td>1550</td>\n",
       "      <td>1367</td>\n",
       "      <td>1526</td>\n",
       "      <td>1577</td>\n",
       "      <td>1692</td>\n",
       "      <td>1863</td>\n",
       "      <td>1714</td>\n",
       "      <td>1565</td>\n",
       "      <td>1249</td>\n",
       "      <td>901</td>\n",
       "    </tr>\n",
       "    <tr>\n",
       "      <th>Sat</th>\n",
       "      <td>541</td>\n",
       "      <td>330</td>\n",
       "      <td>182</td>\n",
       "      <td>118</td>\n",
       "      <td>127</td>\n",
       "      <td>168</td>\n",
       "      <td>381</td>\n",
       "      <td>550</td>\n",
       "      <td>910</td>\n",
       "      <td>1266</td>\n",
       "      <td>...</td>\n",
       "      <td>1600</td>\n",
       "      <td>1462</td>\n",
       "      <td>1488</td>\n",
       "      <td>1560</td>\n",
       "      <td>1747</td>\n",
       "      <td>1846</td>\n",
       "      <td>1748</td>\n",
       "      <td>1537</td>\n",
       "      <td>1234</td>\n",
       "      <td>906</td>\n",
       "    </tr>\n",
       "    <tr>\n",
       "      <th>Sun</th>\n",
       "      <td>545</td>\n",
       "      <td>346</td>\n",
       "      <td>165</td>\n",
       "      <td>107</td>\n",
       "      <td>131</td>\n",
       "      <td>194</td>\n",
       "      <td>326</td>\n",
       "      <td>584</td>\n",
       "      <td>847</td>\n",
       "      <td>1221</td>\n",
       "      <td>...</td>\n",
       "      <td>1561</td>\n",
       "      <td>1389</td>\n",
       "      <td>1435</td>\n",
       "      <td>1590</td>\n",
       "      <td>1807</td>\n",
       "      <td>1830</td>\n",
       "      <td>1774</td>\n",
       "      <td>1535</td>\n",
       "      <td>1336</td>\n",
       "      <td>910</td>\n",
       "    </tr>\n",
       "    <tr>\n",
       "      <th>Thu</th>\n",
       "      <td>547</td>\n",
       "      <td>331</td>\n",
       "      <td>163</td>\n",
       "      <td>126</td>\n",
       "      <td>131</td>\n",
       "      <td>176</td>\n",
       "      <td>351</td>\n",
       "      <td>563</td>\n",
       "      <td>881</td>\n",
       "      <td>1303</td>\n",
       "      <td>...</td>\n",
       "      <td>1511</td>\n",
       "      <td>1480</td>\n",
       "      <td>1500</td>\n",
       "      <td>1502</td>\n",
       "      <td>1720</td>\n",
       "      <td>1814</td>\n",
       "      <td>1773</td>\n",
       "      <td>1518</td>\n",
       "      <td>1263</td>\n",
       "      <td>899</td>\n",
       "    </tr>\n",
       "    <tr>\n",
       "      <th>Tue</th>\n",
       "      <td>556</td>\n",
       "      <td>351</td>\n",
       "      <td>181</td>\n",
       "      <td>126</td>\n",
       "      <td>121</td>\n",
       "      <td>189</td>\n",
       "      <td>375</td>\n",
       "      <td>618</td>\n",
       "      <td>975</td>\n",
       "      <td>1311</td>\n",
       "      <td>...</td>\n",
       "      <td>1663</td>\n",
       "      <td>1570</td>\n",
       "      <td>1483</td>\n",
       "      <td>1584</td>\n",
       "      <td>1864</td>\n",
       "      <td>1830</td>\n",
       "      <td>1801</td>\n",
       "      <td>1642</td>\n",
       "      <td>1209</td>\n",
       "      <td>875</td>\n",
       "    </tr>\n",
       "    <tr>\n",
       "      <th>Wed</th>\n",
       "      <td>565</td>\n",
       "      <td>346</td>\n",
       "      <td>205</td>\n",
       "      <td>131</td>\n",
       "      <td>111</td>\n",
       "      <td>221</td>\n",
       "      <td>346</td>\n",
       "      <td>581</td>\n",
       "      <td>847</td>\n",
       "      <td>1214</td>\n",
       "      <td>...</td>\n",
       "      <td>1553</td>\n",
       "      <td>1527</td>\n",
       "      <td>1495</td>\n",
       "      <td>1564</td>\n",
       "      <td>1740</td>\n",
       "      <td>1834</td>\n",
       "      <td>1627</td>\n",
       "      <td>1594</td>\n",
       "      <td>1275</td>\n",
       "      <td>864</td>\n",
       "    </tr>\n",
       "  </tbody>\n",
       "</table>\n",
       "<p>7 rows × 24 columns</p>\n",
       "</div>"
      ],
      "text/plain": [
       "Hour          0    1    2    3    4    5    6    7    8     9   ...    14  \\\n",
       "Day of Week                                                     ...         \n",
       "Fri          593  335  175   98  108  183  349  533  899  1195  ...  1546   \n",
       "Mon          563  311  172  125  125  190  354  582  897  1238  ...  1550   \n",
       "Sat          541  330  182  118  127  168  381  550  910  1266  ...  1600   \n",
       "Sun          545  346  165  107  131  194  326  584  847  1221  ...  1561   \n",
       "Thu          547  331  163  126  131  176  351  563  881  1303  ...  1511   \n",
       "Tue          556  351  181  126  121  189  375  618  975  1311  ...  1663   \n",
       "Wed          565  346  205  131  111  221  346  581  847  1214  ...  1553   \n",
       "\n",
       "Hour           15    16    17    18    19    20    21    22   23  \n",
       "Day of Week                                                       \n",
       "Fri          1380  1457  1522  1710  1888  1791  1530  1256  920  \n",
       "Mon          1367  1526  1577  1692  1863  1714  1565  1249  901  \n",
       "Sat          1462  1488  1560  1747  1846  1748  1537  1234  906  \n",
       "Sun          1389  1435  1590  1807  1830  1774  1535  1336  910  \n",
       "Thu          1480  1500  1502  1720  1814  1773  1518  1263  899  \n",
       "Tue          1570  1483  1584  1864  1830  1801  1642  1209  875  \n",
       "Wed          1527  1495  1564  1740  1834  1627  1594  1275  864  \n",
       "\n",
       "[7 rows x 24 columns]"
      ]
     },
     "execution_count": 38,
     "metadata": {},
     "output_type": "execute_result"
    }
   ],
   "source": [
    "orders_by_hndow"
   ]
  },
  {
   "cell_type": "code",
   "execution_count": 39,
   "id": "ea33e764",
   "metadata": {},
   "outputs": [
    {
     "data": {
      "text/plain": [
       "Text(0.56, 1.01, 'Number of Orders by DOW and Hour')"
      ]
     },
     "execution_count": 39,
     "metadata": {},
     "output_type": "execute_result"
    },
    {
     "data": {
      "image/png": "[encoded data removed]",
      "text/plain": [
       "<Figure size 792x792 with 4 Axes>"
      ]
     },
     "metadata": {},
     "output_type": "display_data"
    }
   ],
   "source": [
    "sns.set(font_scale = 1.3)\n",
    "g = sns.clustermap(orders_by_hndow, figsize=(11,11), cmap = 'coolwarm')\n",
    "g.fig.suptitle('Number of Orders by DOW and Hour', x = 0.56, y = 1.01, fontdict = font)"
   ]
  },
  {
   "cell_type": "markdown",
   "id": "7347bb63",
   "metadata": {},
   "source": [
    "According to the plot, we can tell more details about in which time periods of each day of week should the company run their ads for best efficiency. For example, 19:00 - 20:00 of all days, in combination with 12:00 - 13:00 of Mondays and Wednesdays,..."
   ]
  },
  {
   "cell_type": "markdown",
   "id": "b2ff92e0",
   "metadata": {},
   "source": [
    "#### Question 4: What product is sold the most? Why?"
   ]
  },
  {
   "cell_type": "markdown",
   "id": "5aed584b",
   "metadata": {},
   "source": [
    "To answer the question, we need to get the sum of Quantity Ordered by each product:"
   ]
  },
  {
   "cell_type": "code",
   "execution_count": 40,
   "id": "03f84667",
   "metadata": {},
   "outputs": [],
   "source": [
    "quant_by_prod = sales_data.groupby(by = 'Product').sum()['Quantity Ordered']"
   ]
  },
  {
   "cell_type": "code",
   "execution_count": 41,
   "id": "d8cc0767",
   "metadata": {
    "scrolled": true
   },
   "outputs": [
    {
     "data": {
      "text/plain": [
       "Product\n",
       "AAA Batteries (4-pack)      31017\n",
       "AA Batteries (4-pack)       27635\n",
       "USB-C Charging Cable        23975\n",
       "Lightning Charging Cable    23217\n",
       "Wired Headphones            20557\n",
       "Name: Quantity Ordered, dtype: int64"
      ]
     },
     "execution_count": 41,
     "metadata": {},
     "output_type": "execute_result"
    }
   ],
   "source": [
    "quant_by_prod.sort_values(ascending=False).head()    # Check the top 5 most sold products"
   ]
  },
  {
   "cell_type": "markdown",
   "id": "f1affafa",
   "metadata": {},
   "source": [
    "Let's create a barplot:"
   ]
  },
  {
   "cell_type": "code",
   "execution_count": 42,
   "id": "16dabdb0",
   "metadata": {
    "scrolled": false
   },
   "outputs": [
    {
     "data": {
      "text/plain": [
       "Text(0.5, 1.0, 'Quantity Ordered by Product')"
      ]
     },
     "execution_count": 42,
     "metadata": {},
     "output_type": "execute_result"
    },
    {
     "data": {
      "image/png": "[encoded data removed]",
      "text/plain": [
       "<Figure size 1008x432 with 1 Axes>"
      ]
     },
     "metadata": {},
     "output_type": "display_data"
    }
   ],
   "source": [
    "plt.figure(figsize=(14,6))\n",
    "quant_by_prod.plot.bar()\n",
    "plt.xlabel('Product', fontsize = 16)\n",
    "plt.xticks(fontsize = 13, rotation = 90)\n",
    "plt.ylabel('Quantity Ordered', fontsize = 16)\n",
    "plt.yticks(fontsize = 13)\n",
    "plt.title('Quantity Ordered by Product', fontdict = font)"
   ]
  },
  {
   "cell_type": "markdown",
   "id": "2db69ca8",
   "metadata": {},
   "source": [
    "As we can see in the plot, AAA Batteries (4-pack) and AA Batteries (4-pack) have the highest quantity ordered. In contrast, LG Dryer and LG Washing Machine have the lowest."
   ]
  },
  {
   "cell_type": "markdown",
   "id": "e36d5e12",
   "metadata": {},
   "source": [
    "In order to find out the reason why a product has higher quantity ordered than the others, we should look at their prices, brands, quality. However, we don't have enough information on brands and quality for every product. So we will focus on the prices:"
   ]
  },
  {
   "cell_type": "code",
   "execution_count": 43,
   "id": "02bf8ee9",
   "metadata": {},
   "outputs": [],
   "source": [
    "# Create a dictionary with keys are the product names and values are their prices\n",
    "\n",
    "prod_price_dict = dict(zip(sales_data['Product'], sales_data['Price Each']))"
   ]
  },
  {
   "cell_type": "code",
   "execution_count": 44,
   "id": "bb242454",
   "metadata": {},
   "outputs": [
    {
     "data": {
      "text/plain": [
       "{'iPhone': 700.0,\n",
       " 'Lightning Charging Cable': 14.95,\n",
       " 'Wired Headphones': 11.99,\n",
       " '27in FHD Monitor': 149.99,\n",
       " 'AAA Batteries (4-pack)': 2.99,\n",
       " '27in 4K Gaming Monitor': 389.99,\n",
       " 'USB-C Charging Cable': 11.95,\n",
       " 'Bose SoundSport Headphones': 99.99,\n",
       " 'Apple Airpods Headphones': 150.0,\n",
       " 'Macbook Pro Laptop': 1700.0,\n",
       " 'Flatscreen TV': 300.0,\n",
       " 'Vareebadd Phone': 400.0,\n",
       " 'AA Batteries (4-pack)': 3.84,\n",
       " 'Google Phone': 600.0,\n",
       " '20in Monitor': 109.99,\n",
       " '34in Ultrawide Monitor': 379.99,\n",
       " 'ThinkPad Laptop': 999.99,\n",
       " 'LG Dryer': 600.0,\n",
       " 'LG Washing Machine': 600.0}"
      ]
     },
     "execution_count": 44,
     "metadata": {},
     "output_type": "execute_result"
    }
   ],
   "source": [
    "prod_price_dict    # Check the dictionary"
   ]
  },
  {
   "cell_type": "code",
   "execution_count": 45,
   "id": "39007a53",
   "metadata": {},
   "outputs": [],
   "source": [
    "# Create sum by product dataframe\n",
    "\n",
    "sum_by_prod = sales_data.groupby(by = 'Product').sum()"
   ]
  },
  {
   "cell_type": "code",
   "execution_count": 46,
   "id": "c6461121",
   "metadata": {
    "scrolled": true
   },
   "outputs": [
    {
     "data": {
      "text/html": [
       "<div>\n",
       "<style scoped>\n",
       "    .dataframe tbody tr th:only-of-type {\n",
       "        vertical-align: middle;\n",
       "    }\n",
       "\n",
       "    .dataframe tbody tr th {\n",
       "        vertical-align: top;\n",
       "    }\n",
       "\n",
       "    .dataframe thead th {\n",
       "        text-align: right;\n",
       "    }\n",
       "</style>\n",
       "<table border=\"1\" class=\"dataframe\">\n",
       "  <thead>\n",
       "    <tr style=\"text-align: right;\">\n",
       "      <th></th>\n",
       "      <th>Quantity Ordered</th>\n",
       "      <th>Price Each</th>\n",
       "      <th>Month</th>\n",
       "      <th>Hour</th>\n",
       "      <th>Revenue</th>\n",
       "    </tr>\n",
       "    <tr>\n",
       "      <th>Product</th>\n",
       "      <th></th>\n",
       "      <th></th>\n",
       "      <th></th>\n",
       "      <th></th>\n",
       "      <th></th>\n",
       "    </tr>\n",
       "  </thead>\n",
       "  <tbody>\n",
       "    <tr>\n",
       "      <th>20in Monitor</th>\n",
       "      <td>4129</td>\n",
       "      <td>451068.99</td>\n",
       "      <td>29336</td>\n",
       "      <td>58764</td>\n",
       "      <td>454148.71</td>\n",
       "    </tr>\n",
       "    <tr>\n",
       "      <th>27in 4K Gaming Monitor</th>\n",
       "      <td>6244</td>\n",
       "      <td>2429637.70</td>\n",
       "      <td>44440</td>\n",
       "      <td>90916</td>\n",
       "      <td>2435097.56</td>\n",
       "    </tr>\n",
       "    <tr>\n",
       "      <th>27in FHD Monitor</th>\n",
       "      <td>7550</td>\n",
       "      <td>1125974.93</td>\n",
       "      <td>52558</td>\n",
       "      <td>107540</td>\n",
       "      <td>1132424.50</td>\n",
       "    </tr>\n",
       "    <tr>\n",
       "      <th>34in Ultrawide Monitor</th>\n",
       "      <td>6199</td>\n",
       "      <td>2348718.19</td>\n",
       "      <td>43304</td>\n",
       "      <td>89076</td>\n",
       "      <td>2355558.01</td>\n",
       "    </tr>\n",
       "    <tr>\n",
       "      <th>AA Batteries (4-pack)</th>\n",
       "      <td>27635</td>\n",
       "      <td>79015.68</td>\n",
       "      <td>145558</td>\n",
       "      <td>298342</td>\n",
       "      <td>106118.40</td>\n",
       "    </tr>\n",
       "  </tbody>\n",
       "</table>\n",
       "</div>"
      ],
      "text/plain": [
       "                        Quantity Ordered  Price Each   Month    Hour  \\\n",
       "Product                                                                \n",
       "20in Monitor                        4129   451068.99   29336   58764   \n",
       "27in 4K Gaming Monitor              6244  2429637.70   44440   90916   \n",
       "27in FHD Monitor                    7550  1125974.93   52558  107540   \n",
       "34in Ultrawide Monitor              6199  2348718.19   43304   89076   \n",
       "AA Batteries (4-pack)              27635    79015.68  145558  298342   \n",
       "\n",
       "                           Revenue  \n",
       "Product                             \n",
       "20in Monitor             454148.71  \n",
       "27in 4K Gaming Monitor  2435097.56  \n",
       "27in FHD Monitor        1132424.50  \n",
       "34in Ultrawide Monitor  2355558.01  \n",
       "AA Batteries (4-pack)    106118.40  "
      ]
     },
     "execution_count": 46,
     "metadata": {},
     "output_type": "execute_result"
    }
   ],
   "source": [
    "sum_by_prod.head()    # Check the head of the dataframe"
   ]
  },
  {
   "cell_type": "markdown",
   "id": "dd80af0b",
   "metadata": {},
   "source": [
    "Notice that the Price Each also got summed. Now we need to replace the summed values with the correct Price Each values:"
   ]
  },
  {
   "cell_type": "code",
   "execution_count": 47,
   "id": "74e5b4bc",
   "metadata": {},
   "outputs": [],
   "source": [
    "# Mapping the index of the dataframe with the dictionary created above and assign the values into Price Each column\n",
    "\n",
    "sum_by_prod['Price Each'] = sum_by_prod.index.map(prod_price_dict)"
   ]
  },
  {
   "cell_type": "code",
   "execution_count": 48,
   "id": "1e1c84fe",
   "metadata": {},
   "outputs": [
    {
     "data": {
      "text/html": [
       "<div>\n",
       "<style scoped>\n",
       "    .dataframe tbody tr th:only-of-type {\n",
       "        vertical-align: middle;\n",
       "    }\n",
       "\n",
       "    .dataframe tbody tr th {\n",
       "        vertical-align: top;\n",
       "    }\n",
       "\n",
       "    .dataframe thead th {\n",
       "        text-align: right;\n",
       "    }\n",
       "</style>\n",
       "<table border=\"1\" class=\"dataframe\">\n",
       "  <thead>\n",
       "    <tr style=\"text-align: right;\">\n",
       "      <th></th>\n",
       "      <th>Quantity Ordered</th>\n",
       "      <th>Price Each</th>\n",
       "    </tr>\n",
       "    <tr>\n",
       "      <th>Product</th>\n",
       "      <th></th>\n",
       "      <th></th>\n",
       "    </tr>\n",
       "  </thead>\n",
       "  <tbody>\n",
       "    <tr>\n",
       "      <th>20in Monitor</th>\n",
       "      <td>4129</td>\n",
       "      <td>109.99</td>\n",
       "    </tr>\n",
       "    <tr>\n",
       "      <th>27in 4K Gaming Monitor</th>\n",
       "      <td>6244</td>\n",
       "      <td>389.99</td>\n",
       "    </tr>\n",
       "    <tr>\n",
       "      <th>27in FHD Monitor</th>\n",
       "      <td>7550</td>\n",
       "      <td>149.99</td>\n",
       "    </tr>\n",
       "    <tr>\n",
       "      <th>34in Ultrawide Monitor</th>\n",
       "      <td>6199</td>\n",
       "      <td>379.99</td>\n",
       "    </tr>\n",
       "    <tr>\n",
       "      <th>AA Batteries (4-pack)</th>\n",
       "      <td>27635</td>\n",
       "      <td>3.84</td>\n",
       "    </tr>\n",
       "    <tr>\n",
       "      <th>AAA Batteries (4-pack)</th>\n",
       "      <td>31017</td>\n",
       "      <td>2.99</td>\n",
       "    </tr>\n",
       "    <tr>\n",
       "      <th>Apple Airpods Headphones</th>\n",
       "      <td>15661</td>\n",
       "      <td>150.00</td>\n",
       "    </tr>\n",
       "    <tr>\n",
       "      <th>Bose SoundSport Headphones</th>\n",
       "      <td>13457</td>\n",
       "      <td>99.99</td>\n",
       "    </tr>\n",
       "    <tr>\n",
       "      <th>Flatscreen TV</th>\n",
       "      <td>4819</td>\n",
       "      <td>300.00</td>\n",
       "    </tr>\n",
       "    <tr>\n",
       "      <th>Google Phone</th>\n",
       "      <td>5532</td>\n",
       "      <td>600.00</td>\n",
       "    </tr>\n",
       "    <tr>\n",
       "      <th>LG Dryer</th>\n",
       "      <td>646</td>\n",
       "      <td>600.00</td>\n",
       "    </tr>\n",
       "    <tr>\n",
       "      <th>LG Washing Machine</th>\n",
       "      <td>666</td>\n",
       "      <td>600.00</td>\n",
       "    </tr>\n",
       "    <tr>\n",
       "      <th>Lightning Charging Cable</th>\n",
       "      <td>23217</td>\n",
       "      <td>14.95</td>\n",
       "    </tr>\n",
       "    <tr>\n",
       "      <th>Macbook Pro Laptop</th>\n",
       "      <td>4728</td>\n",
       "      <td>1700.00</td>\n",
       "    </tr>\n",
       "    <tr>\n",
       "      <th>ThinkPad Laptop</th>\n",
       "      <td>4130</td>\n",
       "      <td>999.99</td>\n",
       "    </tr>\n",
       "    <tr>\n",
       "      <th>USB-C Charging Cable</th>\n",
       "      <td>23975</td>\n",
       "      <td>11.95</td>\n",
       "    </tr>\n",
       "    <tr>\n",
       "      <th>Vareebadd Phone</th>\n",
       "      <td>2068</td>\n",
       "      <td>400.00</td>\n",
       "    </tr>\n",
       "    <tr>\n",
       "      <th>Wired Headphones</th>\n",
       "      <td>20557</td>\n",
       "      <td>11.99</td>\n",
       "    </tr>\n",
       "    <tr>\n",
       "      <th>iPhone</th>\n",
       "      <td>6849</td>\n",
       "      <td>700.00</td>\n",
       "    </tr>\n",
       "  </tbody>\n",
       "</table>\n",
       "</div>"
      ],
      "text/plain": [
       "                            Quantity Ordered  Price Each\n",
       "Product                                                 \n",
       "20in Monitor                            4129      109.99\n",
       "27in 4K Gaming Monitor                  6244      389.99\n",
       "27in FHD Monitor                        7550      149.99\n",
       "34in Ultrawide Monitor                  6199      379.99\n",
       "AA Batteries (4-pack)                  27635        3.84\n",
       "AAA Batteries (4-pack)                 31017        2.99\n",
       "Apple Airpods Headphones               15661      150.00\n",
       "Bose SoundSport Headphones             13457       99.99\n",
       "Flatscreen TV                           4819      300.00\n",
       "Google Phone                            5532      600.00\n",
       "LG Dryer                                 646      600.00\n",
       "LG Washing Machine                       666      600.00\n",
       "Lightning Charging Cable               23217       14.95\n",
       "Macbook Pro Laptop                      4728     1700.00\n",
       "ThinkPad Laptop                         4130      999.99\n",
       "USB-C Charging Cable                   23975       11.95\n",
       "Vareebadd Phone                         2068      400.00\n",
       "Wired Headphones                       20557       11.99\n",
       "iPhone                                  6849      700.00"
      ]
     },
     "execution_count": 48,
     "metadata": {},
     "output_type": "execute_result"
    }
   ],
   "source": [
    "sum_by_prod[['Quantity Ordered','Price Each']]    # Check the dataframe with the 2 specified columns"
   ]
  },
  {
   "cell_type": "markdown",
   "id": "a7e33266",
   "metadata": {},
   "source": [
    "Begin plotting:"
   ]
  },
  {
   "cell_type": "code",
   "execution_count": 74,
   "id": "f51eb7e0",
   "metadata": {
    "scrolled": false
   },
   "outputs": [
    {
     "name": "stderr",
     "output_type": "stream",
     "text": [
      "<ipython-input-74-d8814e22e59b>:5: UserWarning: FixedFormatter should only be used together with FixedLocator\n",
      "  ax1.set_xticklabels(sum_by_prod.index, rotation = 90, fontsize = 13)\n"
     ]
    },
    {
     "data": {
      "text/plain": [
       "Text(0, 0.5, 'Price Each')"
      ]
     },
     "execution_count": 74,
     "metadata": {},
     "output_type": "execute_result"
    },
    {
     "data": {
      "image/png": "[encoded data removed]",
      "text/plain": [
       "<Figure size 1008x432 with 2 Axes>"
      ]
     },
     "metadata": {},
     "output_type": "display_data"
    }
   ],
   "source": [
    "plt.style.use('seaborn-ticks')\n",
    "fig, ax1 = plt.subplots(figsize=(14,6))\n",
    "\n",
    "ax1.bar(sum_by_prod.index, sum_by_prod['Quantity Ordered'], color = 'g')\n",
    "ax1.set_xticklabels(sum_by_prod.index, rotation = 90, fontsize = 13)\n",
    "ax1.set_xlabel('Product', fontsize = 13)\n",
    "ax1.set_ylabel('Quantity Ordered', fontsize = 13, color = 'g')\n",
    "ax1.set_title('Quantity Ordered and Price Each by Product', fontdict=font)\n",
    "\n",
    "ax2 = ax1.twinx()\n",
    "ax2.plot(sum_by_prod.index, sum_by_prod['Price Each'], color = 'b')\n",
    "ax2.set_ylabel('Price Each', fontsize = 13, color = 'b')"
   ]
  },
  {
   "cell_type": "markdown",
   "id": "d0594a58",
   "metadata": {},
   "source": [
    "The plot shows that there is some correlation between the price and quantity ordered of these products. The products with highest quantity ordered, which are AA Batteries and AAA Batteries, have lowest prices while the products with low quantity ordered, which are LG Dryer, LG, Washing Machine, Macbook Pro Laptop and ThinkPadLaptop, have high prices."
   ]
  },
  {
   "cell_type": "markdown",
   "id": "b7a35e9d",
   "metadata": {},
   "source": [
    "#### Question 5: Which pair of products is most often sold together?"
   ]
  },
  {
   "cell_type": "code",
   "execution_count": 50,
   "id": "4efe3d87",
   "metadata": {},
   "outputs": [],
   "source": [
    "# Create a dataframe including rows which have duplicated Order ID\n",
    "\n",
    "orderID_dups = sales_data[sales_data['Order ID'].duplicated(keep = False)]"
   ]
  },
  {
   "cell_type": "code",
   "execution_count": 51,
   "id": "b40d1337",
   "metadata": {},
   "outputs": [
    {
     "name": "stderr",
     "output_type": "stream",
     "text": [
      "<ipython-input-51-a7ce966d3e3c>:3: SettingWithCopyWarning: \n",
      "A value is trying to be set on a copy of a slice from a DataFrame.\n",
      "Try using .loc[row_indexer,col_indexer] = value instead\n",
      "\n",
      "See the caveats in the documentation: https://pandas.pydata.org/pandas-docs/stable/user_guide/indexing.html#returning-a-view-versus-a-copy\n",
      "  orderID_dups['All Products'] = orderID_dups.groupby(by = 'Order ID')['Product'].transform(lambda x: ', '.join(x))\n"
     ]
    }
   ],
   "source": [
    "# Create a new column with each value contains all Products from the same Order ID\n",
    "\n",
    "orderID_dups['All Products'] = orderID_dups.groupby(by = 'Order ID')['Product'].transform(lambda x: ', '.join(x))"
   ]
  },
  {
   "cell_type": "code",
   "execution_count": 52,
   "id": "108b9fca",
   "metadata": {},
   "outputs": [
    {
     "data": {
      "text/html": [
       "<div>\n",
       "<style scoped>\n",
       "    .dataframe tbody tr th:only-of-type {\n",
       "        vertical-align: middle;\n",
       "    }\n",
       "\n",
       "    .dataframe tbody tr th {\n",
       "        vertical-align: top;\n",
       "    }\n",
       "\n",
       "    .dataframe thead th {\n",
       "        text-align: right;\n",
       "    }\n",
       "</style>\n",
       "<table border=\"1\" class=\"dataframe\">\n",
       "  <thead>\n",
       "    <tr style=\"text-align: right;\">\n",
       "      <th></th>\n",
       "      <th>Order ID</th>\n",
       "      <th>Product</th>\n",
       "      <th>Quantity Ordered</th>\n",
       "      <th>Price Each</th>\n",
       "      <th>Order Date</th>\n",
       "      <th>Purchase Address</th>\n",
       "      <th>Month</th>\n",
       "      <th>Hour</th>\n",
       "      <th>Revenue</th>\n",
       "      <th>City</th>\n",
       "      <th>Day of Week</th>\n",
       "      <th>All Products</th>\n",
       "    </tr>\n",
       "  </thead>\n",
       "  <tbody>\n",
       "    <tr>\n",
       "      <th>41</th>\n",
       "      <td>141275</td>\n",
       "      <td>USB-C Charging Cable</td>\n",
       "      <td>1</td>\n",
       "      <td>11.95</td>\n",
       "      <td>2019-01-07 16:06:00</td>\n",
       "      <td>610 Walnut St, Austin, TX 73301</td>\n",
       "      <td>1</td>\n",
       "      <td>16</td>\n",
       "      <td>11.95</td>\n",
       "      <td>Austin</td>\n",
       "      <td>Mon</td>\n",
       "      <td>USB-C Charging Cable, Wired Headphones</td>\n",
       "    </tr>\n",
       "    <tr>\n",
       "      <th>42</th>\n",
       "      <td>141275</td>\n",
       "      <td>Wired Headphones</td>\n",
       "      <td>1</td>\n",
       "      <td>11.99</td>\n",
       "      <td>2019-01-07 16:06:00</td>\n",
       "      <td>610 Walnut St, Austin, TX 73301</td>\n",
       "      <td>1</td>\n",
       "      <td>16</td>\n",
       "      <td>11.99</td>\n",
       "      <td>Austin</td>\n",
       "      <td>Mon</td>\n",
       "      <td>USB-C Charging Cable, Wired Headphones</td>\n",
       "    </tr>\n",
       "    <tr>\n",
       "      <th>57</th>\n",
       "      <td>141290</td>\n",
       "      <td>Apple Airpods Headphones</td>\n",
       "      <td>1</td>\n",
       "      <td>150.00</td>\n",
       "      <td>2019-01-02 08:25:00</td>\n",
       "      <td>4 1st St, Los Angeles, CA 90001</td>\n",
       "      <td>1</td>\n",
       "      <td>8</td>\n",
       "      <td>150.00</td>\n",
       "      <td>Los Angeles</td>\n",
       "      <td>Wed</td>\n",
       "      <td>Apple Airpods Headphones, AA Batteries (4-pack)</td>\n",
       "    </tr>\n",
       "    <tr>\n",
       "      <th>58</th>\n",
       "      <td>141290</td>\n",
       "      <td>AA Batteries (4-pack)</td>\n",
       "      <td>3</td>\n",
       "      <td>3.84</td>\n",
       "      <td>2019-01-02 08:25:00</td>\n",
       "      <td>4 1st St, Los Angeles, CA 90001</td>\n",
       "      <td>1</td>\n",
       "      <td>8</td>\n",
       "      <td>11.52</td>\n",
       "      <td>Los Angeles</td>\n",
       "      <td>Wed</td>\n",
       "      <td>Apple Airpods Headphones, AA Batteries (4-pack)</td>\n",
       "    </tr>\n",
       "    <tr>\n",
       "      <th>133</th>\n",
       "      <td>141365</td>\n",
       "      <td>Vareebadd Phone</td>\n",
       "      <td>1</td>\n",
       "      <td>400.00</td>\n",
       "      <td>2019-01-10 11:19:00</td>\n",
       "      <td>20 Dogwood St, New York City, NY 10001</td>\n",
       "      <td>1</td>\n",
       "      <td>11</td>\n",
       "      <td>400.00</td>\n",
       "      <td>New York City</td>\n",
       "      <td>Thu</td>\n",
       "      <td>Vareebadd Phone, Wired Headphones</td>\n",
       "    </tr>\n",
       "  </tbody>\n",
       "</table>\n",
       "</div>"
      ],
      "text/plain": [
       "    Order ID                   Product  Quantity Ordered  Price Each  \\\n",
       "41    141275      USB-C Charging Cable                 1       11.95   \n",
       "42    141275          Wired Headphones                 1       11.99   \n",
       "57    141290  Apple Airpods Headphones                 1      150.00   \n",
       "58    141290     AA Batteries (4-pack)                 3        3.84   \n",
       "133   141365           Vareebadd Phone                 1      400.00   \n",
       "\n",
       "             Order Date                        Purchase Address  Month  Hour  \\\n",
       "41  2019-01-07 16:06:00         610 Walnut St, Austin, TX 73301      1    16   \n",
       "42  2019-01-07 16:06:00         610 Walnut St, Austin, TX 73301      1    16   \n",
       "57  2019-01-02 08:25:00         4 1st St, Los Angeles, CA 90001      1     8   \n",
       "58  2019-01-02 08:25:00         4 1st St, Los Angeles, CA 90001      1     8   \n",
       "133 2019-01-10 11:19:00  20 Dogwood St, New York City, NY 10001      1    11   \n",
       "\n",
       "     Revenue           City Day of Week  \\\n",
       "41     11.95         Austin         Mon   \n",
       "42     11.99         Austin         Mon   \n",
       "57    150.00    Los Angeles         Wed   \n",
       "58     11.52    Los Angeles         Wed   \n",
       "133   400.00  New York City         Thu   \n",
       "\n",
       "                                        All Products  \n",
       "41            USB-C Charging Cable, Wired Headphones  \n",
       "42            USB-C Charging Cable, Wired Headphones  \n",
       "57   Apple Airpods Headphones, AA Batteries (4-pack)  \n",
       "58   Apple Airpods Headphones, AA Batteries (4-pack)  \n",
       "133                Vareebadd Phone, Wired Headphones  "
      ]
     },
     "execution_count": 52,
     "metadata": {},
     "output_type": "execute_result"
    }
   ],
   "source": [
    "orderID_dups.head()    # Check the dataframe"
   ]
  },
  {
   "cell_type": "code",
   "execution_count": 61,
   "id": "68a33503",
   "metadata": {},
   "outputs": [],
   "source": [
    "# Create a counting object\n",
    "\n",
    "count = Counter()\n",
    "\n",
    "# Using a for loop to count every possible 2-combinations in each value of the All Products column\n",
    "\n",
    "for products in orderID_dups['All Products']:\n",
    "    product_list = products.split(\", \")\n",
    "    count.update(Counter(combinations(product_list, 2)))\n",
    "\n",
    "# Sorting the result in descending order and convert into a dataframe\n",
    "\n",
    "count_of_combinations = pd.DataFrame(count.most_common(), columns=['Combinations','Counts'])"
   ]
  },
  {
   "cell_type": "code",
   "execution_count": 62,
   "id": "5998c838",
   "metadata": {},
   "outputs": [
    {
     "data": {
      "text/html": [
       "<div>\n",
       "<style scoped>\n",
       "    .dataframe tbody tr th:only-of-type {\n",
       "        vertical-align: middle;\n",
       "    }\n",
       "\n",
       "    .dataframe tbody tr th {\n",
       "        vertical-align: top;\n",
       "    }\n",
       "\n",
       "    .dataframe thead th {\n",
       "        text-align: right;\n",
       "    }\n",
       "</style>\n",
       "<table border=\"1\" class=\"dataframe\">\n",
       "  <thead>\n",
       "    <tr style=\"text-align: right;\">\n",
       "      <th></th>\n",
       "      <th>Combinations</th>\n",
       "      <th>Counts</th>\n",
       "    </tr>\n",
       "  </thead>\n",
       "  <tbody>\n",
       "    <tr>\n",
       "      <th>0</th>\n",
       "      <td>(iPhone, Lightning Charging Cable)</td>\n",
       "      <td>2140</td>\n",
       "    </tr>\n",
       "    <tr>\n",
       "      <th>1</th>\n",
       "      <td>(Google Phone, USB-C Charging Cable)</td>\n",
       "      <td>2116</td>\n",
       "    </tr>\n",
       "    <tr>\n",
       "      <th>2</th>\n",
       "      <td>(iPhone, Wired Headphones)</td>\n",
       "      <td>987</td>\n",
       "    </tr>\n",
       "    <tr>\n",
       "      <th>3</th>\n",
       "      <td>(Google Phone, Wired Headphones)</td>\n",
       "      <td>949</td>\n",
       "    </tr>\n",
       "    <tr>\n",
       "      <th>4</th>\n",
       "      <td>(iPhone, Apple Airpods Headphones)</td>\n",
       "      <td>799</td>\n",
       "    </tr>\n",
       "  </tbody>\n",
       "</table>\n",
       "</div>"
      ],
      "text/plain": [
       "                           Combinations  Counts\n",
       "0    (iPhone, Lightning Charging Cable)    2140\n",
       "1  (Google Phone, USB-C Charging Cable)    2116\n",
       "2            (iPhone, Wired Headphones)     987\n",
       "3      (Google Phone, Wired Headphones)     949\n",
       "4    (iPhone, Apple Airpods Headphones)     799"
      ]
     },
     "execution_count": 62,
     "metadata": {},
     "output_type": "execute_result"
    }
   ],
   "source": [
    "count_of_combinations.head()    # Check the dataframe"
   ]
  },
  {
   "cell_type": "code",
   "execution_count": 68,
   "id": "9ba2b618",
   "metadata": {},
   "outputs": [],
   "source": [
    "# Remove parentheses\n",
    "count_of_combinations['Combinations'] = count_of_combinations['Combinations'].apply(lambda x: ', '.join(x))"
   ]
  },
  {
   "cell_type": "code",
   "execution_count": 69,
   "id": "1abfb54a",
   "metadata": {},
   "outputs": [
    {
     "data": {
      "text/html": [
       "<div>\n",
       "<style scoped>\n",
       "    .dataframe tbody tr th:only-of-type {\n",
       "        vertical-align: middle;\n",
       "    }\n",
       "\n",
       "    .dataframe tbody tr th {\n",
       "        vertical-align: top;\n",
       "    }\n",
       "\n",
       "    .dataframe thead th {\n",
       "        text-align: right;\n",
       "    }\n",
       "</style>\n",
       "<table border=\"1\" class=\"dataframe\">\n",
       "  <thead>\n",
       "    <tr style=\"text-align: right;\">\n",
       "      <th></th>\n",
       "      <th>Combinations</th>\n",
       "      <th>Counts</th>\n",
       "    </tr>\n",
       "  </thead>\n",
       "  <tbody>\n",
       "    <tr>\n",
       "      <th>0</th>\n",
       "      <td>iPhone, Lightning Charging Cable</td>\n",
       "      <td>2140</td>\n",
       "    </tr>\n",
       "    <tr>\n",
       "      <th>1</th>\n",
       "      <td>Google Phone, USB-C Charging Cable</td>\n",
       "      <td>2116</td>\n",
       "    </tr>\n",
       "    <tr>\n",
       "      <th>2</th>\n",
       "      <td>iPhone, Wired Headphones</td>\n",
       "      <td>987</td>\n",
       "    </tr>\n",
       "    <tr>\n",
       "      <th>3</th>\n",
       "      <td>Google Phone, Wired Headphones</td>\n",
       "      <td>949</td>\n",
       "    </tr>\n",
       "    <tr>\n",
       "      <th>4</th>\n",
       "      <td>iPhone, Apple Airpods Headphones</td>\n",
       "      <td>799</td>\n",
       "    </tr>\n",
       "  </tbody>\n",
       "</table>\n",
       "</div>"
      ],
      "text/plain": [
       "                         Combinations  Counts\n",
       "0    iPhone, Lightning Charging Cable    2140\n",
       "1  Google Phone, USB-C Charging Cable    2116\n",
       "2            iPhone, Wired Headphones     987\n",
       "3      Google Phone, Wired Headphones     949\n",
       "4    iPhone, Apple Airpods Headphones     799"
      ]
     },
     "execution_count": 69,
     "metadata": {},
     "output_type": "execute_result"
    }
   ],
   "source": [
    "count_of_combinations.head()"
   ]
  },
  {
   "cell_type": "markdown",
   "id": "a3fa4999",
   "metadata": {},
   "source": [
    "As we can see in the dataframe, the two most-sold-together pairs of products are Iphone & Lightning Charging Cable and Google Phone & USB-C Charging Cable. In order to promote sales of the low-order-quantity products such as LG Dryer or LG Washing Machine (details in question 4's plot), the company should give away coupons, vouchers or discounts on these products' prices to buyers who have purchased the two most-sold-together pairs of products."
   ]
  },
  {
   "cell_type": "markdown",
   "id": "472cbde3",
   "metadata": {},
   "source": [
    "# Thanks for checking out my project!"
   ]
  }
 ],
 "metadata": {
  "kernelspec": {
   "display_name": "Python 3",
   "language": "python",
   "name": "python3"
  },
  "language_info": {
   "codemirror_mode": {
    "name": "ipython",
    "version": 3
   },
   "file_extension": ".py",
   "mimetype": "text/x-python",
   "name": "python",
   "nbconvert_exporter": "python",
   "pygments_lexer": "ipython3",
   "version": "3.8.8"
  }
 },
 "nbformat": 4,
 "nbformat_minor": 5
}
